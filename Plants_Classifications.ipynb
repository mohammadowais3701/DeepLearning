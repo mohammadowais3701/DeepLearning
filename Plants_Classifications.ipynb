{
  "nbformat": 4,
  "nbformat_minor": 0,
  "metadata": {
    "colab": {
      "name": "Plants_Classifications.ipynb",
      "provenance": [],
      "private_outputs": true,
      "collapsed_sections": [],
      "toc_visible": true
    },
    "kernelspec": {
      "name": "python3",
      "display_name": "Python 3"
    },
    "accelerator": "GPU"
  },
  "cells": [
    {
      "cell_type": "code",
      "metadata": {
        "id": "kPSsnKfcYoOY"
      },
      "source": [
        "import os\n",
        "import zipfile\n",
        "import matplotlib.pyplot as plt\n",
        "import matplotlib.image as mpimg\n",
        "import tensorflow as tf\n",
        "import keras_preprocessing\n",
        "from keras_preprocessing import image\n",
        "from keras_preprocessing.image import ImageDataGenerator"
      ],
      "execution_count": null,
      "outputs": []
    },
    {
      "cell_type": "code",
      "metadata": {
        "id": "7E4vrU6Lto94"
      },
      "source": [
        "!wget --no-check-certificate \\\n",
        "    https://drive.google.com/open?id=1Il-4vgGwPSH8uk8D9cmA433F26-7x-uJ\\\n",
        "    -O /tmp/Plants1.zip"
      ],
      "execution_count": null,
      "outputs": []
    },
    {
      "cell_type": "code",
      "metadata": {
        "id": "R-pw4y5YbQhp"
      },
      "source": [
        "local_zipfile='/content/drive/My Drive/datasets/Plants1.zip'"
      ],
      "execution_count": null,
      "outputs": []
    },
    {
      "cell_type": "markdown",
      "metadata": {
        "id": "Z8uiysE432rc"
      },
      "source": [
        ""
      ]
    },
    {
      "cell_type": "code",
      "metadata": {
        "id": "e_ntJfUVbWqw"
      },
      "source": [
        "zip_ref = zipfile.ZipFile(local_zipfile, 'r')\n",
        "zip_ref.extractall('/datasets/')\n",
        "zip_ref.close()"
      ],
      "execution_count": null,
      "outputs": []
    },
    {
      "cell_type": "code",
      "metadata": {
        "id": "bGkYLQFvxBmb"
      },
      "source": [
        "Apple___Apple_scab=os.path.join('/datasets/Plants1/Plant_leave_diseases_dataset_without_augmentation/train/Apple___Apple_scab')\n",
        "Apple___Black_rot=os.path.join('/datasets/Plants1/Plant_leave_diseases_dataset_without_augmentation/train/Apple___Black_rot')\n",
        "Apple___Cedar_apple_rust=os.path.join('/datasets/Plants1/Plant_leave_diseases_dataset_without_augmentation/train/Apple___Cedar_apple_rust')\n",
        "Apple___healthy=os.path.join('/datasets/Plants1/Plant_leave_diseases_dataset_without_augmentation/train/Apple___healthy')\n",
        "Blueberry___healthy=os.path.join('/datasets/Plants1/Plant_leave_diseases_dataset_without_augmentation/train/Blueberry___healthy')\n",
        "Cherry___healthy=os.path.join('/datasets/Plants1/Plant_leave_diseases_dataset_without_augmentation/train/Cherry___healthy')\n",
        "Cherry___Powdery_mildew=os.path.join('/datasets/Plants1/Plant_leave_diseases_dataset_without_augmentation/train/Cherry___Powdery_mildew')\n",
        "Corn___Cercospora_leaf_spot=os.path.join('/datasets/Plants1/Plant_leave_diseases_dataset_without_augmentation/train/Corn___Cercospora_leaf_spot Gray_leaf_spot')\n",
        "Corn___Common_rust=os.path.join('/datasets/Plants1/Plant_leave_diseases_dataset_without_augmentation/train/Corn___Common_rust')\n",
        "Corn___healthy=os.path.join('/datasets/Plants1/Plant_leave_diseases_dataset_without_augmentation/train/Corn___healthy')\n",
        "Corn___Northern_Leaf_Blight=os.path.join('/datasets/Plants1/Plant_leave_diseases_dataset_without_augmentation/train/Corn___Northern_Leaf_Blight')\n",
        "Grape___Black_rot=os.path.join('/datasets/Plants1/Plant_leave_diseases_dataset_without_augmentation/train/Grape___Black_rot')\n",
        "Grape___Esca=os.path.join('/datasets/Plants1/Plant_leave_diseases_dataset_without_augmentation/train/Grape___Esca_(Black_Measles)')\n",
        "Grape___healthy=os.path.join('/datasets/Plants1/Plant_leave_diseases_dataset_without_augmentation/train/Grape___healthy')\n",
        "Grape___Leaf_blight_Isariopsis_Leaf_Spot=os.path.join('/datasets/Plants1/Plant_leave_diseases_dataset_without_augmentation/train/Grape___Leaf_blight_(Isariopsis_Leaf_Spot)')\n",
        "Orange___Haunglongbing_Citrus_greening=os.path.join('/datasets/Plants1/Plant_leave_diseases_dataset_without_augmentation/train/Orange___Haunglongbing_(Citrus_greening)')\n",
        "Peach___Bacterial_spot=os.path.join('/datasets/Plants1/Plant_leave_diseases_dataset_without_augmentation/train/Peach___Bacterial_spot')\n",
        "Peach___healthy=os.path.join('/datasets/Plants1/Plant_leave_diseases_dataset_without_augmentation/train/Peach___healthy')\n",
        "Pepper_bell___Bacterial_spot=os.path.join('/datasets/Plants1/Plant_leave_diseases_dataset_without_augmentation/train/Pepper_bell___Bacterial_spot')\n",
        "Pepper_bell___healthy=os.path.join('/datasets/Plants1/Plant_leave_diseases_dataset_without_augmentation/train/Pepper_bell___healthy')\n",
        "Potato___Early_blight=os.path.join('/datasets/Plants1/Plant_leave_diseases_dataset_without_augmentation/train/Potato___Early_blight')\n",
        "Potato___healthy=os.path.join('/datasets/Plants1/Plant_leave_diseases_dataset_without_augmentation/train/Potato___healthy')\n",
        "Potato___Late_blight=os.path.join('/datasets/Plants1/Plant_leave_diseases_dataset_without_augmentation/train/Potato___Late_blight')\n",
        "Raspberry___healthy=os.path.join('/datasets/Plants1/Plant_leave_diseases_dataset_without_augmentation/train/Raspberry___healthy')\n",
        "Soybean___healthy=os.path.join('/datasets/Plants1/Plant_leave_diseases_dataset_without_augmentation/train/Soybean___healthy')\n",
        "Squash___Powdery_mildew=os.path.join('/datasets/Plants1/Plant_leave_diseases_dataset_without_augmentation/train/Squash___Powdery_mildew')\n",
        "Strawberry___healthy=os.path.join('/datasets/Plants1/Plant_leave_diseases_dataset_without_augmentation/train/Strawberry___healthy')\n",
        "Strawberry___Leaf_scorch=os.path.join('/datasets/Plants1/Plant_leave_diseases_dataset_without_augmentation/train/Strawberry___Leaf_scorch')\n",
        "Tomato___Bacterial_spot=os.path.join('/datasets/Plants1/Plant_leave_diseases_dataset_without_augmentation/train/Tomato___Bacterial_spot')\n",
        "Tomato___Early_blight=os.path.join('/datasets/Plants1/Plant_leave_diseases_dataset_without_augmentation/train/Tomato___Early_blight')\n",
        "Tomato___healthy=os.path.join('/datasets/Plants1/Plant_leave_diseases_dataset_without_augmentation/train/Tomato___healthy')\n",
        "Tomato___Late_blight=os.path.join('/datasets/Plants1/Plant_leave_diseases_dataset_without_augmentation/train/Tomato___Late_blight')\n",
        "Tomato___Leaf_Mold=os.path.join('/datasets/Plants1/Plant_leave_diseases_dataset_without_augmentation/train/Tomato___Leaf_Mold')\n",
        "Tomato___Septoria_leaf_spot=os.path.join('/datasets/Plants1/Plant_leave_diseases_dataset_without_augmentation/train/Tomato___Septoria_leaf_spot')\n",
        "Tomato___Spider_mites=os.path.join('/datasets/Plants1/Plant_leave_diseases_dataset_without_augmentation/train/Tomato___Spider_mites Two-spotted_spider_mite')\n",
        "Tomato___Target_Spot=os.path.join('/datasets/Plants1/Plant_leave_diseases_dataset_without_augmentation/train/Tomato___Target_Spot')\n",
        "Tomato___Tomato_mosaic_virus=os.path.join('/datasets/Plants1/Plant_leave_diseases_dataset_without_augmentation/train/Tomato___Tomato_mosaic_virus')\n",
        "Tomato___Tomato_Yellow_Leaf_Curl_Virus=os.path.join('/datasets/Plants1/Plant_leave_diseases_dataset_without_augmentation/train/Tomato___Tomato_Yellow_Leaf_Curl_Virus')\n"
      ],
      "execution_count": null,
      "outputs": []
    },
    {
      "cell_type": "code",
      "metadata": {
        "id": "0-eT7u8nxQj-"
      },
      "source": [
        "print('total training images:', len(os.listdir(Tomato___Tomato_Yellow_Leaf_Curl_Virus)))"
      ],
      "execution_count": null,
      "outputs": []
    },
    {
      "cell_type": "code",
      "metadata": {
        "id": "wo-9ph33xapB"
      },
      "source": [
        "TRAINING_DIR = \"/datasets/Plants1/Plant_leave_diseases_dataset_without_augmentation/train/\"\n",
        "training_datagen = ImageDataGenerator(\n",
        "      rescale = 1./255,\n",
        "      rotation_range=40,\n",
        "      width_shift_range=0.2,\n",
        "      height_shift_range=0.2,\n",
        "      shear_range=0.2,\n",
        "      zoom_range=0.2,\n",
        "      horizontal_flip=True,\n",
        "      fill_mode='nearest')\n",
        "\n",
        "VALIDATION_DIR = \"/datasets/Plants1/Plant_leave_diseases_dataset_without_augmentation/val/\"\n",
        "validation_datagen = ImageDataGenerator(rescale = 1./255)\n",
        "\n",
        "train_generator = training_datagen.flow_from_directory(\n",
        "                                                        TRAINING_DIR,\n",
        "                                                        target_size=(256,256),\n",
        "                                                        class_mode='categorical',\n",
        "                                                        batch_size=126\n",
        ")\n",
        "\n",
        "validation_generator = validation_datagen.flow_from_directory(\n",
        "                                                                VALIDATION_DIR,\n",
        "                                                                target_size=(256,256),\n",
        "                                                                class_mode='categorical',\n",
        "                                                                batch_size=126\n",
        ")\n",
        "TEST_DIR = \"/datasets/Plants1/Plant_leave_diseases_dataset_without_augmentation/test/\"\n",
        "test_datagen = ImageDataGenerator(rescale = 1./255)\n",
        "test_generator = test_datagen.flow_from_directory(\n",
        "                                                                TEST_DIR,\n",
        "                                                                target_size=(256,256),\n",
        "                                                                class_mode='categorical',\n",
        "                                                                batch_size=500\n",
        ")\n",
        "\n",
        "label_map1 = (train_generator.class_indices)\n",
        "label_map2 = (validation_generator.class_indices)\n",
        "print(label_map1)\n",
        "print(label_map2)"
      ],
      "execution_count": null,
      "outputs": []
    },
    {
      "cell_type": "code",
      "metadata": {
        "id": "bOhyt3AsCCsD"
      },
      "source": [
        "model = tf.keras.models.Sequential([\n",
        "  \n",
        "    tf.keras.layers.Conv2D(64, (3,3), activation='relu', input_shape=(256, 256, 3)),\n",
        "    tf.keras.layers.MaxPooling2D(2, 2),\n",
        "    tf.keras.layers.Conv2D(64, (3,3), activation='relu'),\n",
        "    tf.keras.layers.MaxPooling2D(2,2),\n",
        "    tf.keras.layers.Conv2D(128, (3,3), activation='relu'),\n",
        "    tf.keras.layers.MaxPooling2D(2,2),\n",
        "    tf.keras.layers.Flatten(),\n",
        "    tf.keras.layers.Dropout(0.2),\n",
        "    tf.keras.layers.Dense(512, activation='relu'),\n",
        "    tf.keras.layers.Dense(512, activation='relu'),\n",
        "    tf.keras.layers.Dense(256, activation='relu'),\n",
        "    tf.keras.layers.Dense(39, activation='softmax')\n",
        "])\n"
      ],
      "execution_count": null,
      "outputs": []
    },
    {
      "cell_type": "code",
      "metadata": {
        "id": "GmcPfjH2CJzt"
      },
      "source": [
        "model.summary()\n",
        "\n",
        "model.compile(loss = 'categorical_crossentropy', optimizer='rmsprop', metrics=['accuracy'])\n",
        "\n",
        "history = model.fit(train_generator, epochs=70, steps_per_epoch=20, validation_data = validation_generator, verbose = 1, validation_steps=7)\n"
      ],
      "execution_count": null,
      "outputs": []
    },
    {
      "cell_type": "code",
      "metadata": {
        "id": "IMa3oTffILhl"
      },
      "source": [
        "import matplotlib.pyplot as plt\n",
        "acc = history.history['accuracy']\n",
        "val_acc = history.history['val_accuracy']\n",
        "loss = history.history['loss']\n",
        "val_loss = history.history['val_loss']\n",
        "\n",
        "epochs = range(len(acc))\n",
        "\n",
        "plt.plot(epochs, acc, 'r', label='Training accuracy')\n",
        "plt.plot(epochs, val_acc, 'b', label='Validation accuracy')\n",
        "plt.title('Training and validation accuracy')\n",
        "plt.legend(loc=0)\n",
        "plt.figure()\n",
        "\n",
        "\n",
        "plt.show()\n",
        "\n",
        "plt.plot(epochs, loss, 'r', label='Training Loss')\n",
        "plt.plot(epochs, val_loss, 'b', label='Validation Loss')\n",
        "plt.title('Training and validation Loss')\n",
        "plt.legend(loc=1)\n",
        "plt.figure()\n",
        "plt.show()"
      ],
      "execution_count": null,
      "outputs": []
    },
    {
      "cell_type": "code",
      "metadata": {
        "id": "3xN19F6uF_Gy"
      },
      "source": [
        "import json\n",
        "with open('/content/drive/My Drive/datasets/plantsAcc.json', 'w') as file:\n",
        "\n",
        "    json.dump(history.history, file)"
      ],
      "execution_count": null,
      "outputs": []
    },
    {
      "cell_type": "code",
      "metadata": {
        "id": "MDySIGv3GaM8"
      },
      "source": [
        "import numpy as np\n",
        "import pandas as pd\n",
        "with open(\"/content/drive/My Drive/datasets/myfile.json\",\"r\") as f:\n",
        "\n",
        "   df= pd.read_json(f)\n",
        "   print(df)"
      ],
      "execution_count": null,
      "outputs": []
    },
    {
      "cell_type": "code",
      "metadata": {
        "id": "gQH54ddXHUMr"
      },
      "source": [
        "print(df)"
      ],
      "execution_count": null,
      "outputs": []
    },
    {
      "cell_type": "code",
      "metadata": {
        "id": "syjSgXeOJFIG"
      },
      "source": [
        "import matplotlib.pyplot as plt\n",
        "acc = df['accuracy']\n",
        "val_acc = df['val_accuracy']\n",
        "loss = df['loss']\n",
        "val_loss = df['val_loss']\n",
        "\n",
        "epochs = range(len(acc))\n",
        "\n",
        "plt.plot(epochs, acc, 'r', label='Training accuracy')\n",
        "plt.plot(epochs, val_acc, 'b', label='Validation accuracy')\n",
        "plt.title('Training and validation accuracy')\n",
        "plt.legend(loc=0)\n",
        "plt.figure()\n",
        "\n",
        "\n",
        "plt.show()\n",
        "\n",
        "plt.plot(epochs, loss, 'r', label='Training Loss')\n",
        "plt.plot(epochs, val_loss, 'b', label='Validation Loss')\n",
        "plt.title('Training and validation Loss')\n",
        "plt.legend(loc=1)\n",
        "plt.figure()\n",
        "plt.show()"
      ],
      "execution_count": null,
      "outputs": []
    },
    {
      "cell_type": "code",
      "metadata": {
        "id": "7zNCzZv7KE4s"
      },
      "source": [
        "import numpy as np\n",
        "from google.colab import files\n",
        "from keras.preprocessing import image\n",
        "\n",
        "uploaded = files.upload()\n",
        "\n",
        "for fn in uploaded.keys():\n",
        " \n",
        "  # predicting images\n",
        "  path = fn\n",
        "  img = image.load_img(path, target_size=(256, 256))\n",
        "  x = image.img_to_array(img)\n",
        "  x = np.expand_dims(x, axis=0)\n",
        "\n",
        "  images = np.hstack([x])\n",
        "  classes = newmodel.predict(images, batch_size=126)\n",
        "  print(fn)\n",
        "  print(classes)"
      ],
      "execution_count": null,
      "outputs": []
    },
    {
      "cell_type": "code",
      "metadata": {
        "id": "rgIFWFN0laoA"
      },
      "source": [
        "newmodel.predict(test_generator)"
      ],
      "execution_count": null,
      "outputs": []
    },
    {
      "cell_type": "code",
      "metadata": {
        "id": "b3GYmP353i8R"
      },
      "source": [
        ""
      ],
      "execution_count": null,
      "outputs": []
    },
    {
      "cell_type": "code",
      "metadata": {
        "id": "yIZWo9U_3IQU"
      },
      "source": [
        "model.save(\"PlantsClassification.h5\")"
      ],
      "execution_count": null,
      "outputs": []
    },
    {
      "cell_type": "code",
      "metadata": {
        "id": "dTbODzVx39tv"
      },
      "source": [
        "newmodel=tf.keras.models.load_model(\"/content/drive/My Drive/datasets/PlantsClassification.h5\")\n",
        "newmodel.summary()\n"
      ],
      "execution_count": null,
      "outputs": []
    },
    {
      "cell_type": "code",
      "metadata": {
        "id": "J0ttCutKBImN"
      },
      "source": [
        ""
      ],
      "execution_count": null,
      "outputs": []
    },
    {
      "cell_type": "code",
      "metadata": {
        "id": "SdfY4gOnARTE"
      },
      "source": [
        "from google.colab import drive\n",
        "drive.mount('/content/drive')"
      ],
      "execution_count": null,
      "outputs": []
    },
    {
      "cell_type": "code",
      "metadata": {
        "id": "Tdw5rlFg5Vqt"
      },
      "source": [
        "score=newmodel.evaluate(test_generator)"
      ],
      "execution_count": null,
      "outputs": []
    },
    {
      "cell_type": "code",
      "metadata": {
        "id": "bKtRnkIWmMeB"
      },
      "source": [
        "print(score)"
      ],
      "execution_count": null,
      "outputs": []
    }
  ]
}