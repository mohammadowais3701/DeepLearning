{
  "nbformat": 4,
  "nbformat_minor": 0,
  "metadata": {
    "colab": {
      "name": "EastWestAirLinesNN.ipynb",
      "provenance": [],
      "collapsed_sections": []
    },
    "kernelspec": {
      "name": "python3",
      "display_name": "Python 3"
    },
    "accelerator": "GPU"
  },
  "cells": [
    {
      "cell_type": "code",
      "metadata": {
        "id": "aGDlW84EPyGI"
      },
      "source": [
        "import pandas as pd\n",
        "import tensorflow as tf\n",
        "import numpy as np\n",
        "import matplotlib.pyplot as plt"
      ],
      "execution_count": null,
      "outputs": []
    },
    {
      "cell_type": "code",
      "metadata": {
        "id": "-eS6odmnVF8x"
      },
      "source": [
        "dataset=pd.read_csv('EastWestAirlinesNN.csv')\n",
        "#dataset=pd.read_csv('/content/sample_data/EastWestAirlinesNN.csv')"
      ],
      "execution_count": null,
      "outputs": []
    },
    {
      "cell_type": "code",
      "metadata": {
        "id": "bcJp3dYyWg5N"
      },
      "source": [
        "dataset"
      ],
      "execution_count": null,
      "outputs": []
    },
    {
      "cell_type": "markdown",
      "metadata": {
        "id": "YRahbc8IZ_ne"
      },
      "source": [
        "**DATA CLEANING**"
      ]
    },
    {
      "cell_type": "code",
      "metadata": {
        "id": "jVCvi7uJWpO3"
      },
      "source": [
        "dataset=dataset.drop(columns=['ID#'])"
      ],
      "execution_count": null,
      "outputs": []
    },
    {
      "cell_type": "code",
      "metadata": {
        "id": "UhEU9UxkWvyC"
      },
      "source": [
        "about=dataset.isna().sum()"
      ],
      "execution_count": null,
      "outputs": []
    },
    {
      "cell_type": "code",
      "metadata": {
        "id": "Uynt9RJ_W5le"
      },
      "source": [
        "about.to_csv('/content/sample_data/aboutNa.csv')"
      ],
      "execution_count": null,
      "outputs": []
    },
    {
      "cell_type": "code",
      "metadata": {
        "id": "yv-mcvDLY2KF"
      },
      "source": [
        "indexNames = dataset[ dataset['Topflight'].isna() ].index\n",
        "dataset.drop(indexNames , inplace=True)\n",
        "indexNames = dataset[ dataset['Balance'].isna() ].index\n",
        "dataset.drop(indexNames , inplace=True)\n",
        "indexNames = dataset[ dataset['Qual_miles'].isna() ].index\n",
        "dataset.drop(indexNames , inplace=True)\n",
        "indexNames = dataset[ dataset['cc1_miles?'].isna() ].index\n",
        "dataset.drop(indexNames , inplace=True)\n",
        "indexNames = dataset[ dataset['cc2_miles?'].isna() ].index\n",
        "dataset.drop(indexNames , inplace=True)\n",
        "indexNames = dataset[ dataset['cc3_miles?'].isna() ].index\n",
        "dataset.drop(indexNames , inplace=True)\n",
        "indexNames = dataset[ dataset['Bonus_miles'].isna() ].index\n",
        "dataset.drop(indexNames , inplace=True)\n",
        "indexNames = dataset[ dataset['Bonus_trans'].isna() ].index\n",
        "dataset.drop(indexNames , inplace=True)\n",
        "indexNames = dataset[ dataset['Flight_miles_12mo'].isna() ].index\n",
        "dataset.drop(indexNames , inplace=True)\n",
        "indexNames = dataset[ dataset['Flight_trans_12'].isna() ].index\n",
        "dataset.drop(indexNames , inplace=True)\n",
        "indexNames = dataset[ dataset['Online_12'].isna() ].index\n",
        "dataset.drop(indexNames , inplace=True)\n",
        "indexNames = dataset[ dataset['Email'].isna() ].index\n",
        "dataset.drop(indexNames , inplace=True)\n",
        "indexNames = dataset[ dataset['Club_member'].isna() ].index\n",
        "dataset.drop(indexNames , inplace=True)\n",
        "indexNames = dataset[ dataset['Any_cc_miles_12mo'].isna() ].index\n",
        "dataset.drop(indexNames , inplace=True)\n",
        "indexNames = dataset[ dataset['Phone_sale'].isna() ].index\n",
        "dataset.drop(indexNames , inplace=True)\n"
      ],
      "execution_count": null,
      "outputs": []
    },
    {
      "cell_type": "code",
      "metadata": {
        "id": "gA5Ve45zaIyU"
      },
      "source": [
        "dataset=pd.concat([dataset,pd.get_dummies(dataset['Topflight'],prefix='Topflight')],axis=1)\n",
        "dataset=pd.concat([dataset,pd.get_dummies(dataset['cc1_miles?'],prefix='cc1_miles?')],axis=1)\n",
        "dataset=pd.concat([dataset,pd.get_dummies(dataset['cc2_miles?'],prefix='cc2_miles?')],axis=1)\n",
        "dataset=pd.concat([dataset,pd.get_dummies(dataset['cc3_miles?'],prefix='cc3_miles?')],axis=1)\n",
        "dataset=pd.concat([dataset,pd.get_dummies(dataset['Email'],prefix='Email')],axis=1)\n",
        "dataset=pd.concat([dataset,pd.get_dummies(dataset['Club_member'],prefix='Club_member')],axis=1)\n",
        "dataset=pd.concat([dataset,pd.get_dummies(dataset['Any_cc_miles_12mo'],prefix='Any_cc_miles_12mo')],axis=1)"
      ],
      "execution_count": null,
      "outputs": []
    },
    {
      "cell_type": "code",
      "metadata": {
        "id": "hZTOcdkAcMex"
      },
      "source": [
        "dataset=dataset.drop(columns=['Topflight'])\n",
        "dataset=dataset.drop(columns=['cc1_miles?'])\n",
        "dataset=dataset.drop(columns=['cc2_miles?'])\n",
        "dataset=dataset.drop(columns=['cc3_miles?'])\n",
        "\n",
        "dataset=dataset.drop(columns=['Email'])\n",
        "dataset=dataset.drop(columns=['Club_member'])\n",
        "dataset=dataset.drop(columns=['Any_cc_miles_12mo'])\n"
      ],
      "execution_count": null,
      "outputs": []
    },
    {
      "cell_type": "code",
      "metadata": {
        "id": "n-fEFAD8fBrv"
      },
      "source": [
        "train_dataset=dataset.sample(frac=0.8,random_state=0)\n",
        "test_dataset=dataset.drop(train_dataset.index)"
      ],
      "execution_count": null,
      "outputs": []
    },
    {
      "cell_type": "code",
      "metadata": {
        "id": "swjq5RXZfFag"
      },
      "source": [
        "train_labels=train_dataset.pop('Phone_sale')\n",
        "test_labels=test_dataset.pop('Phone_sale')"
      ],
      "execution_count": null,
      "outputs": []
    },
    {
      "cell_type": "code",
      "metadata": {
        "id": "XqYWPA5HfPds"
      },
      "source": [
        "train_stats=train_dataset.describe()"
      ],
      "execution_count": null,
      "outputs": []
    },
    {
      "cell_type": "code",
      "metadata": {
        "id": "ygfzFUTChBss",
        "outputId": "d8cb8385-84c6-46b8-8286-fb90d0ab3ca5",
        "colab": {
          "base_uri": "https://localhost:8080/",
          "height": 443
        }
      },
      "source": [
        "train_dataset"
      ],
      "execution_count": null,
      "outputs": [
        {
          "output_type": "execute_result",
          "data": {
            "text/html": [
              "<div>\n",
              "<style scoped>\n",
              "    .dataframe tbody tr th:only-of-type {\n",
              "        vertical-align: middle;\n",
              "    }\n",
              "\n",
              "    .dataframe tbody tr th {\n",
              "        vertical-align: top;\n",
              "    }\n",
              "\n",
              "    .dataframe thead th {\n",
              "        text-align: right;\n",
              "    }\n",
              "</style>\n",
              "<table border=\"1\" class=\"dataframe\">\n",
              "  <thead>\n",
              "    <tr style=\"text-align: right;\">\n",
              "      <th></th>\n",
              "      <th>Balance</th>\n",
              "      <th>Qual_miles</th>\n",
              "      <th>Bonus_miles</th>\n",
              "      <th>Bonus_trans</th>\n",
              "      <th>Flight_miles_12mo</th>\n",
              "      <th>Flight_trans_12</th>\n",
              "      <th>Online_12</th>\n",
              "      <th>Topflight_0.0</th>\n",
              "      <th>Topflight_1.0</th>\n",
              "      <th>cc1_miles?_0.0</th>\n",
              "      <th>cc1_miles?_1.0</th>\n",
              "      <th>cc2_miles?_0.0</th>\n",
              "      <th>cc2_miles?_1.0</th>\n",
              "      <th>cc3_miles?_0.0</th>\n",
              "      <th>cc3_miles?_1.0</th>\n",
              "      <th>Email_0.0</th>\n",
              "      <th>Email_1.0</th>\n",
              "      <th>Club_member_0.0</th>\n",
              "      <th>Club_member_1.0</th>\n",
              "      <th>Any_cc_miles_12mo_0.0</th>\n",
              "      <th>Any_cc_miles_12mo_1.0</th>\n",
              "    </tr>\n",
              "  </thead>\n",
              "  <tbody>\n",
              "    <tr>\n",
              "      <th>1275</th>\n",
              "      <td>39601.0</td>\n",
              "      <td>0.0</td>\n",
              "      <td>4066.0</td>\n",
              "      <td>12.0</td>\n",
              "      <td>0.0</td>\n",
              "      <td>0.0</td>\n",
              "      <td>0.0</td>\n",
              "      <td>1</td>\n",
              "      <td>0</td>\n",
              "      <td>0</td>\n",
              "      <td>1</td>\n",
              "      <td>1</td>\n",
              "      <td>0</td>\n",
              "      <td>1</td>\n",
              "      <td>0</td>\n",
              "      <td>0</td>\n",
              "      <td>1</td>\n",
              "      <td>1</td>\n",
              "      <td>0</td>\n",
              "      <td>0</td>\n",
              "      <td>1</td>\n",
              "    </tr>\n",
              "    <tr>\n",
              "      <th>3580</th>\n",
              "      <td>7625.0</td>\n",
              "      <td>0.0</td>\n",
              "      <td>4375.0</td>\n",
              "      <td>21.0</td>\n",
              "      <td>0.0</td>\n",
              "      <td>0.0</td>\n",
              "      <td>0.0</td>\n",
              "      <td>1</td>\n",
              "      <td>0</td>\n",
              "      <td>1</td>\n",
              "      <td>0</td>\n",
              "      <td>1</td>\n",
              "      <td>0</td>\n",
              "      <td>1</td>\n",
              "      <td>0</td>\n",
              "      <td>0</td>\n",
              "      <td>1</td>\n",
              "      <td>1</td>\n",
              "      <td>0</td>\n",
              "      <td>1</td>\n",
              "      <td>0</td>\n",
              "    </tr>\n",
              "    <tr>\n",
              "      <th>4368</th>\n",
              "      <td>172570.0</td>\n",
              "      <td>0.0</td>\n",
              "      <td>12022.0</td>\n",
              "      <td>10.0</td>\n",
              "      <td>250.0</td>\n",
              "      <td>2.0</td>\n",
              "      <td>0.0</td>\n",
              "      <td>0</td>\n",
              "      <td>1</td>\n",
              "      <td>1</td>\n",
              "      <td>0</td>\n",
              "      <td>1</td>\n",
              "      <td>0</td>\n",
              "      <td>1</td>\n",
              "      <td>0</td>\n",
              "      <td>0</td>\n",
              "      <td>1</td>\n",
              "      <td>1</td>\n",
              "      <td>0</td>\n",
              "      <td>1</td>\n",
              "      <td>0</td>\n",
              "    </tr>\n",
              "    <tr>\n",
              "      <th>376</th>\n",
              "      <td>22380.0</td>\n",
              "      <td>0.0</td>\n",
              "      <td>300.0</td>\n",
              "      <td>2.0</td>\n",
              "      <td>200.0</td>\n",
              "      <td>1.0</td>\n",
              "      <td>0.0</td>\n",
              "      <td>1</td>\n",
              "      <td>0</td>\n",
              "      <td>1</td>\n",
              "      <td>0</td>\n",
              "      <td>1</td>\n",
              "      <td>0</td>\n",
              "      <td>1</td>\n",
              "      <td>0</td>\n",
              "      <td>0</td>\n",
              "      <td>1</td>\n",
              "      <td>1</td>\n",
              "      <td>0</td>\n",
              "      <td>1</td>\n",
              "      <td>0</td>\n",
              "    </tr>\n",
              "    <tr>\n",
              "      <th>3807</th>\n",
              "      <td>126028.0</td>\n",
              "      <td>0.0</td>\n",
              "      <td>23974.0</td>\n",
              "      <td>19.0</td>\n",
              "      <td>668.0</td>\n",
              "      <td>1.0</td>\n",
              "      <td>0.0</td>\n",
              "      <td>0</td>\n",
              "      <td>1</td>\n",
              "      <td>0</td>\n",
              "      <td>1</td>\n",
              "      <td>1</td>\n",
              "      <td>0</td>\n",
              "      <td>1</td>\n",
              "      <td>0</td>\n",
              "      <td>0</td>\n",
              "      <td>1</td>\n",
              "      <td>1</td>\n",
              "      <td>0</td>\n",
              "      <td>0</td>\n",
              "      <td>1</td>\n",
              "    </tr>\n",
              "    <tr>\n",
              "      <th>...</th>\n",
              "      <td>...</td>\n",
              "      <td>...</td>\n",
              "      <td>...</td>\n",
              "      <td>...</td>\n",
              "      <td>...</td>\n",
              "      <td>...</td>\n",
              "      <td>...</td>\n",
              "      <td>...</td>\n",
              "      <td>...</td>\n",
              "      <td>...</td>\n",
              "      <td>...</td>\n",
              "      <td>...</td>\n",
              "      <td>...</td>\n",
              "      <td>...</td>\n",
              "      <td>...</td>\n",
              "      <td>...</td>\n",
              "      <td>...</td>\n",
              "      <td>...</td>\n",
              "      <td>...</td>\n",
              "      <td>...</td>\n",
              "      <td>...</td>\n",
              "    </tr>\n",
              "    <tr>\n",
              "      <th>2325</th>\n",
              "      <td>28677.0</td>\n",
              "      <td>0.0</td>\n",
              "      <td>215.0</td>\n",
              "      <td>3.0</td>\n",
              "      <td>0.0</td>\n",
              "      <td>0.0</td>\n",
              "      <td>0.0</td>\n",
              "      <td>1</td>\n",
              "      <td>0</td>\n",
              "      <td>1</td>\n",
              "      <td>0</td>\n",
              "      <td>1</td>\n",
              "      <td>0</td>\n",
              "      <td>1</td>\n",
              "      <td>0</td>\n",
              "      <td>1</td>\n",
              "      <td>0</td>\n",
              "      <td>1</td>\n",
              "      <td>0</td>\n",
              "      <td>1</td>\n",
              "      <td>0</td>\n",
              "    </tr>\n",
              "    <tr>\n",
              "      <th>56</th>\n",
              "      <td>75971.0</td>\n",
              "      <td>0.0</td>\n",
              "      <td>34339.0</td>\n",
              "      <td>14.0</td>\n",
              "      <td>0.0</td>\n",
              "      <td>0.0</td>\n",
              "      <td>0.0</td>\n",
              "      <td>1</td>\n",
              "      <td>0</td>\n",
              "      <td>0</td>\n",
              "      <td>1</td>\n",
              "      <td>1</td>\n",
              "      <td>0</td>\n",
              "      <td>1</td>\n",
              "      <td>0</td>\n",
              "      <td>0</td>\n",
              "      <td>1</td>\n",
              "      <td>1</td>\n",
              "      <td>0</td>\n",
              "      <td>0</td>\n",
              "      <td>1</td>\n",
              "    </tr>\n",
              "    <tr>\n",
              "      <th>3300</th>\n",
              "      <td>6789.0</td>\n",
              "      <td>0.0</td>\n",
              "      <td>0.0</td>\n",
              "      <td>0.0</td>\n",
              "      <td>0.0</td>\n",
              "      <td>0.0</td>\n",
              "      <td>0.0</td>\n",
              "      <td>1</td>\n",
              "      <td>0</td>\n",
              "      <td>1</td>\n",
              "      <td>0</td>\n",
              "      <td>1</td>\n",
              "      <td>0</td>\n",
              "      <td>1</td>\n",
              "      <td>0</td>\n",
              "      <td>0</td>\n",
              "      <td>1</td>\n",
              "      <td>1</td>\n",
              "      <td>0</td>\n",
              "      <td>1</td>\n",
              "      <td>0</td>\n",
              "    </tr>\n",
              "    <tr>\n",
              "      <th>1435</th>\n",
              "      <td>32749.0</td>\n",
              "      <td>0.0</td>\n",
              "      <td>450.0</td>\n",
              "      <td>3.0</td>\n",
              "      <td>450.0</td>\n",
              "      <td>3.0</td>\n",
              "      <td>0.0</td>\n",
              "      <td>1</td>\n",
              "      <td>0</td>\n",
              "      <td>1</td>\n",
              "      <td>0</td>\n",
              "      <td>1</td>\n",
              "      <td>0</td>\n",
              "      <td>1</td>\n",
              "      <td>0</td>\n",
              "      <td>0</td>\n",
              "      <td>1</td>\n",
              "      <td>1</td>\n",
              "      <td>0</td>\n",
              "      <td>1</td>\n",
              "      <td>0</td>\n",
              "    </tr>\n",
              "    <tr>\n",
              "      <th>4465</th>\n",
              "      <td>14746.0</td>\n",
              "      <td>0.0</td>\n",
              "      <td>1250.0</td>\n",
              "      <td>3.0</td>\n",
              "      <td>0.0</td>\n",
              "      <td>0.0</td>\n",
              "      <td>0.0</td>\n",
              "      <td>1</td>\n",
              "      <td>0</td>\n",
              "      <td>1</td>\n",
              "      <td>0</td>\n",
              "      <td>1</td>\n",
              "      <td>0</td>\n",
              "      <td>1</td>\n",
              "      <td>0</td>\n",
              "      <td>0</td>\n",
              "      <td>1</td>\n",
              "      <td>1</td>\n",
              "      <td>0</td>\n",
              "      <td>1</td>\n",
              "      <td>0</td>\n",
              "    </tr>\n",
              "  </tbody>\n",
              "</table>\n",
              "<p>3988 rows × 21 columns</p>\n",
              "</div>"
            ],
            "text/plain": [
              "       Balance  Qual_miles  ...  Any_cc_miles_12mo_0.0  Any_cc_miles_12mo_1.0\n",
              "1275   39601.0         0.0  ...                      0                      1\n",
              "3580    7625.0         0.0  ...                      1                      0\n",
              "4368  172570.0         0.0  ...                      1                      0\n",
              "376    22380.0         0.0  ...                      1                      0\n",
              "3807  126028.0         0.0  ...                      0                      1\n",
              "...        ...         ...  ...                    ...                    ...\n",
              "2325   28677.0         0.0  ...                      1                      0\n",
              "56     75971.0         0.0  ...                      0                      1\n",
              "3300    6789.0         0.0  ...                      1                      0\n",
              "1435   32749.0         0.0  ...                      1                      0\n",
              "4465   14746.0         0.0  ...                      1                      0\n",
              "\n",
              "[3988 rows x 21 columns]"
            ]
          },
          "metadata": {
            "tags": []
          },
          "execution_count": 119
        }
      ]
    },
    {
      "cell_type": "code",
      "metadata": {
        "id": "vxym93fEfu1i"
      },
      "source": [
        "train_stats"
      ],
      "execution_count": null,
      "outputs": []
    },
    {
      "cell_type": "code",
      "metadata": {
        "id": "mtS4DjVcgafL"
      },
      "source": [
        "\n",
        "train_stats=train_stats.transpose()"
      ],
      "execution_count": null,
      "outputs": []
    },
    {
      "cell_type": "code",
      "metadata": {
        "id": "poonHVtPgQdg"
      },
      "source": [
        "def normalize(data):\n",
        "     return (data-train_stats['mean'])/train_stats['std']"
      ],
      "execution_count": null,
      "outputs": []
    },
    {
      "cell_type": "code",
      "metadata": {
        "id": "KiUc-34DgrSN"
      },
      "source": [
        "train_dataset=normalize(train_dataset)\n",
        "test_dataset=normalize(test_dataset)"
      ],
      "execution_count": null,
      "outputs": []
    },
    {
      "cell_type": "markdown",
      "metadata": {
        "id": "6z49ftfWlZvv"
      },
      "source": [
        "**Build A Deep Neural Network**"
      ]
    },
    {
      "cell_type": "code",
      "metadata": {
        "id": "ijrlF6D5gvQU"
      },
      "source": [
        "model=tf.keras.models.Sequential([\n",
        "                               \n",
        "                              tf.keras.layers.Dense(21, activation='relu', input_shape=[len(train_dataset.keys())]),\n",
        "                              tf.keras.layers.Dense(5, activation='relu'),\n",
        "                              tf.keras.layers.Dense(1,activation='sigmoid')\n",
        "])\n",
        "\n",
        "\n",
        "\n",
        "model.compile(loss='mse',\n",
        "                optimizer='rmsprop',metrics=['acc'])"
      ],
      "execution_count": null,
      "outputs": []
    },
    {
      "cell_type": "code",
      "metadata": {
        "id": "rR2brAXhhie7",
        "outputId": "cce12ec4-fed8-412e-d199-cf3c21f8a919",
        "colab": {
          "base_uri": "https://localhost:8080/",
          "height": 1000
        }
      },
      "source": [
        "history=model.fit(train_dataset,train_labels,batch_size=128, verbose=1,validation_split=0.2,epochs=50)"
      ],
      "execution_count": null,
      "outputs": [
        {
          "output_type": "stream",
          "text": [
            "Epoch 1/50\n",
            "25/25 [==============================] - 0s 8ms/step - loss: 0.2091 - acc: 0.8000 - val_loss: 0.1853 - val_acc: 0.8559\n",
            "Epoch 2/50\n",
            "25/25 [==============================] - 0s 3ms/step - loss: 0.1636 - acc: 0.8724 - val_loss: 0.1518 - val_acc: 0.8546\n",
            "Epoch 3/50\n",
            "25/25 [==============================] - 0s 3ms/step - loss: 0.1349 - acc: 0.8721 - val_loss: 0.1328 - val_acc: 0.8546\n",
            "Epoch 4/50\n",
            "25/25 [==============================] - 0s 3ms/step - loss: 0.1193 - acc: 0.8721 - val_loss: 0.1245 - val_acc: 0.8546\n",
            "Epoch 5/50\n",
            "25/25 [==============================] - 0s 3ms/step - loss: 0.1126 - acc: 0.8721 - val_loss: 0.1215 - val_acc: 0.8546\n",
            "Epoch 6/50\n",
            "25/25 [==============================] - 0s 3ms/step - loss: 0.1102 - acc: 0.8721 - val_loss: 0.1203 - val_acc: 0.8546\n",
            "Epoch 7/50\n",
            "25/25 [==============================] - 0s 4ms/step - loss: 0.1092 - acc: 0.8721 - val_loss: 0.1198 - val_acc: 0.8546\n",
            "Epoch 8/50\n",
            "25/25 [==============================] - 0s 3ms/step - loss: 0.1087 - acc: 0.8721 - val_loss: 0.1199 - val_acc: 0.8546\n",
            "Epoch 9/50\n",
            "25/25 [==============================] - 0s 3ms/step - loss: 0.1084 - acc: 0.8724 - val_loss: 0.1194 - val_acc: 0.8546\n",
            "Epoch 10/50\n",
            "25/25 [==============================] - 0s 3ms/step - loss: 0.1081 - acc: 0.8721 - val_loss: 0.1196 - val_acc: 0.8546\n",
            "Epoch 11/50\n",
            "25/25 [==============================] - 0s 3ms/step - loss: 0.1079 - acc: 0.8718 - val_loss: 0.1194 - val_acc: 0.8546\n",
            "Epoch 12/50\n",
            "25/25 [==============================] - 0s 3ms/step - loss: 0.1076 - acc: 0.8721 - val_loss: 0.1194 - val_acc: 0.8546\n",
            "Epoch 13/50\n",
            "25/25 [==============================] - 0s 3ms/step - loss: 0.1074 - acc: 0.8724 - val_loss: 0.1190 - val_acc: 0.8546\n",
            "Epoch 14/50\n",
            "25/25 [==============================] - 0s 3ms/step - loss: 0.1073 - acc: 0.8727 - val_loss: 0.1193 - val_acc: 0.8546\n",
            "Epoch 15/50\n",
            "25/25 [==============================] - 0s 4ms/step - loss: 0.1072 - acc: 0.8724 - val_loss: 0.1193 - val_acc: 0.8546\n",
            "Epoch 16/50\n",
            "25/25 [==============================] - 0s 3ms/step - loss: 0.1069 - acc: 0.8724 - val_loss: 0.1192 - val_acc: 0.8546\n",
            "Epoch 17/50\n",
            "25/25 [==============================] - 0s 3ms/step - loss: 0.1067 - acc: 0.8724 - val_loss: 0.1188 - val_acc: 0.8546\n",
            "Epoch 18/50\n",
            "25/25 [==============================] - 0s 4ms/step - loss: 0.1066 - acc: 0.8724 - val_loss: 0.1188 - val_acc: 0.8546\n",
            "Epoch 19/50\n",
            "25/25 [==============================] - 0s 3ms/step - loss: 0.1064 - acc: 0.8724 - val_loss: 0.1187 - val_acc: 0.8546\n",
            "Epoch 20/50\n",
            "25/25 [==============================] - 0s 3ms/step - loss: 0.1063 - acc: 0.8721 - val_loss: 0.1189 - val_acc: 0.8546\n",
            "Epoch 21/50\n",
            "25/25 [==============================] - 0s 3ms/step - loss: 0.1062 - acc: 0.8724 - val_loss: 0.1187 - val_acc: 0.8546\n",
            "Epoch 22/50\n",
            "25/25 [==============================] - 0s 3ms/step - loss: 0.1061 - acc: 0.8721 - val_loss: 0.1187 - val_acc: 0.8546\n",
            "Epoch 23/50\n",
            "25/25 [==============================] - 0s 3ms/step - loss: 0.1060 - acc: 0.8727 - val_loss: 0.1188 - val_acc: 0.8546\n",
            "Epoch 24/50\n",
            "25/25 [==============================] - 0s 3ms/step - loss: 0.1059 - acc: 0.8727 - val_loss: 0.1186 - val_acc: 0.8546\n",
            "Epoch 25/50\n",
            "25/25 [==============================] - 0s 3ms/step - loss: 0.1058 - acc: 0.8724 - val_loss: 0.1186 - val_acc: 0.8546\n",
            "Epoch 26/50\n",
            "25/25 [==============================] - 0s 3ms/step - loss: 0.1057 - acc: 0.8730 - val_loss: 0.1185 - val_acc: 0.8546\n",
            "Epoch 27/50\n",
            "25/25 [==============================] - 0s 3ms/step - loss: 0.1055 - acc: 0.8730 - val_loss: 0.1185 - val_acc: 0.8546\n",
            "Epoch 28/50\n",
            "25/25 [==============================] - 0s 4ms/step - loss: 0.1055 - acc: 0.8727 - val_loss: 0.1185 - val_acc: 0.8546\n",
            "Epoch 29/50\n",
            "25/25 [==============================] - 0s 4ms/step - loss: 0.1054 - acc: 0.8730 - val_loss: 0.1185 - val_acc: 0.8546\n",
            "Epoch 30/50\n",
            "25/25 [==============================] - 0s 3ms/step - loss: 0.1053 - acc: 0.8730 - val_loss: 0.1185 - val_acc: 0.8546\n",
            "Epoch 31/50\n",
            "25/25 [==============================] - 0s 3ms/step - loss: 0.1052 - acc: 0.8730 - val_loss: 0.1185 - val_acc: 0.8546\n",
            "Epoch 32/50\n",
            "25/25 [==============================] - 0s 3ms/step - loss: 0.1051 - acc: 0.8727 - val_loss: 0.1183 - val_acc: 0.8546\n",
            "Epoch 33/50\n",
            "25/25 [==============================] - 0s 3ms/step - loss: 0.1051 - acc: 0.8730 - val_loss: 0.1185 - val_acc: 0.8546\n",
            "Epoch 34/50\n",
            "25/25 [==============================] - 0s 3ms/step - loss: 0.1050 - acc: 0.8730 - val_loss: 0.1184 - val_acc: 0.8546\n",
            "Epoch 35/50\n",
            "25/25 [==============================] - 0s 3ms/step - loss: 0.1050 - acc: 0.8730 - val_loss: 0.1186 - val_acc: 0.8546\n",
            "Epoch 36/50\n",
            "25/25 [==============================] - 0s 3ms/step - loss: 0.1049 - acc: 0.8727 - val_loss: 0.1185 - val_acc: 0.8546\n",
            "Epoch 37/50\n",
            "25/25 [==============================] - 0s 3ms/step - loss: 0.1048 - acc: 0.8730 - val_loss: 0.1185 - val_acc: 0.8546\n",
            "Epoch 38/50\n",
            "25/25 [==============================] - 0s 3ms/step - loss: 0.1048 - acc: 0.8727 - val_loss: 0.1184 - val_acc: 0.8546\n",
            "Epoch 39/50\n",
            "25/25 [==============================] - 0s 3ms/step - loss: 0.1048 - acc: 0.8730 - val_loss: 0.1186 - val_acc: 0.8546\n",
            "Epoch 40/50\n",
            "25/25 [==============================] - 0s 4ms/step - loss: 0.1047 - acc: 0.8734 - val_loss: 0.1184 - val_acc: 0.8546\n",
            "Epoch 41/50\n",
            "25/25 [==============================] - 0s 4ms/step - loss: 0.1047 - acc: 0.8727 - val_loss: 0.1184 - val_acc: 0.8546\n",
            "Epoch 42/50\n",
            "25/25 [==============================] - 0s 3ms/step - loss: 0.1046 - acc: 0.8730 - val_loss: 0.1183 - val_acc: 0.8546\n",
            "Epoch 43/50\n",
            "25/25 [==============================] - 0s 3ms/step - loss: 0.1046 - acc: 0.8737 - val_loss: 0.1184 - val_acc: 0.8546\n",
            "Epoch 44/50\n",
            "25/25 [==============================] - 0s 3ms/step - loss: 0.1045 - acc: 0.8737 - val_loss: 0.1182 - val_acc: 0.8546\n",
            "Epoch 45/50\n",
            "25/25 [==============================] - 0s 3ms/step - loss: 0.1044 - acc: 0.8734 - val_loss: 0.1183 - val_acc: 0.8546\n",
            "Epoch 46/50\n",
            "25/25 [==============================] - 0s 3ms/step - loss: 0.1044 - acc: 0.8730 - val_loss: 0.1186 - val_acc: 0.8546\n",
            "Epoch 47/50\n",
            "25/25 [==============================] - 0s 3ms/step - loss: 0.1043 - acc: 0.8740 - val_loss: 0.1183 - val_acc: 0.8546\n",
            "Epoch 48/50\n",
            "25/25 [==============================] - 0s 3ms/step - loss: 0.1042 - acc: 0.8746 - val_loss: 0.1182 - val_acc: 0.8546\n",
            "Epoch 49/50\n",
            "25/25 [==============================] - 0s 3ms/step - loss: 0.1043 - acc: 0.8740 - val_loss: 0.1185 - val_acc: 0.8546\n",
            "Epoch 50/50\n",
            "25/25 [==============================] - 0s 3ms/step - loss: 0.1042 - acc: 0.8737 - val_loss: 0.1183 - val_acc: 0.8546\n"
          ],
          "name": "stdout"
        }
      ]
    },
    {
      "cell_type": "code",
      "metadata": {
        "id": "XzPl5MrumeGw"
      },
      "source": [
        "test_predict=model.predict(test_dataset,batch_size=1).flatten()"
      ],
      "execution_count": null,
      "outputs": []
    },
    {
      "cell_type": "code",
      "metadata": {
        "id": "4jURiMEAppuG",
        "outputId": "8d01989b-f78d-4b62-fdb6-62bbbe7acfe5",
        "colab": {
          "base_uri": "https://localhost:8080/",
          "height": 52
        }
      },
      "source": [
        "model.evaluate(test_dataset,test_labels)"
      ],
      "execution_count": null,
      "outputs": [
        {
          "output_type": "stream",
          "text": [
            "32/32 [==============================] - 0s 2ms/step - loss: 0.1155 - acc: 0.8656\n"
          ],
          "name": "stdout"
        },
        {
          "output_type": "execute_result",
          "data": {
            "text/plain": [
              "[0.11552387475967407, 0.8655967712402344]"
            ]
          },
          "metadata": {
            "tags": []
          },
          "execution_count": 64
        }
      ]
    },
    {
      "cell_type": "code",
      "metadata": {
        "id": "KV8uj88np_Lv"
      },
      "source": [
        "hist = pd.DataFrame(history.history)\n",
        "hist['epoch'] = history.epoch\n",
        "hist"
      ],
      "execution_count": null,
      "outputs": []
    },
    {
      "cell_type": "code",
      "metadata": {
        "id": "FPTbjKXVrIM_",
        "outputId": "11458251-7bf0-4f15-ca80-328e71765a2d",
        "colab": {
          "base_uri": "https://localhost:8080/",
          "height": 294
        }
      },
      "source": [
        "loss_train = history.history['loss']\n",
        "loss_val = history.history['val_loss']\n",
        "epochs = range(1,51)\n",
        "plt.plot(epochs, loss_train, 'g', label='Training loss')\n",
        "plt.plot(epochs, loss_val, 'b', label='validation loss')\n",
        "plt.title('Training and Validation loss')\n",
        "plt.xlabel('Epochs')\n",
        "plt.ylabel('Loss')\n",
        "plt.ylim(0, 1)\n",
        "plt.legend()\n",
        "plt.show()"
      ],
      "execution_count": null,
      "outputs": [
        {
          "output_type": "display_data",
          "data": {
            "image/png": "[encoded data removed]",
            "text/plain": [
              "<Figure size 432x288 with 1 Axes>"
            ]
          },
          "metadata": {
            "tags": [],
            "needs_background": "light"
          }
        }
      ]
    },
    {
      "cell_type": "code",
      "metadata": {
        "id": "aLNe6ZWRsarG",
        "outputId": "9eb52040-3857-41a9-ec66-98582ff35dac",
        "colab": {
          "base_uri": "https://localhost:8080/",
          "height": 294
        }
      },
      "source": [
        "train_acc = history.history['acc']\n",
        "val_acc = history.history['val_acc']\n",
        "epochs = range(1,51)\n",
        "plt.plot(epochs, train_acc , 'g', label='Training Accuracy')\n",
        "plt.plot(epochs, val_acc, 'b', label='validation Accuracy')\n",
        "plt.title('Training and Validation Accuracy')\n",
        "plt.xlabel('Epochs')\n",
        "plt.ylabel('Accuracy')\n",
        "plt.ylim(0, 1)\n",
        "\n",
        "plt.legend()\n",
        "plt.show()"
      ],
      "execution_count": null,
      "outputs": [
        {
          "output_type": "display_data",
          "data": {
            "image/png": "[encoded data removed]",
            "text/plain": [
              "<Figure size 432x288 with 1 Axes>"
            ]
          },
          "metadata": {
            "tags": [],
            "needs_background": "light"
          }
        }
      ]
    },
    {
      "cell_type": "code",
      "metadata": {
        "id": "V055eSIrxyb5"
      },
      "source": [
        ""
      ],
      "execution_count": null,
      "outputs": []
    },
    {
      "cell_type": "code",
      "metadata": {
        "id": "T2TO8sgA0fLL"
      },
      "source": [
        ""
      ],
      "execution_count": null,
      "outputs": []
    },
    {
      "cell_type": "code",
      "metadata": {
        "id": "52w8qhEQu4IS",
        "outputId": "bbb6e796-c8d1-4b01-bfaf-2b483f31f9e1",
        "colab": {
          "base_uri": "https://localhost:8080/",
          "height": 485
        }
      },
      "source": [
        "df = pd.DataFrame({'Training_Loss':  history.history['loss'], 'Validaion_loss':  history.history['val_loss']})\n",
        "\n",
        "df.plot(kind='bar',figsize=(10,8))\n",
        "plt.grid(which='major', linestyle='-', linewidth='0.5', color='green')\n",
        "plt.grid(which='minor', linestyle=':', linewidth='0.5', color='black')\n",
        "plt.show()"
      ],
      "execution_count": null,
      "outputs": [
        {
          "output_type": "display_data",
          "data": {
            "image/png": "[encoded data removed]",
            "text/plain": [
              "<Figure size 720x576 with 1 Axes>"
            ]
          },
          "metadata": {
            "tags": [],
            "needs_background": "light"
          }
        }
      ]
    },
    {
      "cell_type": "code",
      "metadata": {
        "id": "7A0NsIcuuLeP",
        "outputId": "2617fbc6-c951-417a-bcb9-898db08772f0",
        "colab": {
          "base_uri": "https://localhost:8080/",
          "height": 485
        }
      },
      "source": [
        "df = pd.DataFrame({'Training_acc':  history.history['acc'], 'Validaion_acc':  history.history['val_acc']})\n",
        "\n",
        "df.plot(kind='bar',figsize=(10,8))\n",
        "plt.grid(which='major', linestyle='-', linewidth='1', color='green')\n",
        "plt.grid(which='minor', linestyle=':', linewidth='1', color='black')\n",
        "plt.show()"
      ],
      "execution_count": null,
      "outputs": [
        {
          "output_type": "display_data",
          "data": {
            "image/png": "[encoded data removed]",
            "text/plain": [
              "<Figure size 720x576 with 1 Axes>"
            ]
          },
          "metadata": {
            "tags": [],
            "needs_background": "light"
          }
        }
      ]
    },
    {
      "cell_type": "markdown",
      "metadata": {
        "id": "tLpCWPdJ3co6"
      },
      "source": [
        "**B)**"
      ]
    },
    {
      "cell_type": "markdown",
      "metadata": {
        "id": "juhOZPkT3iSf"
      },
      "source": [
        "Above training and validation Chart shows that there are some overfitting problem because the Training Accuracy is 87% and validation accuracy is 85%."
      ]
    },
    {
      "cell_type": "markdown",
      "metadata": {
        "id": "4uSWUlzq4aGO"
      },
      "source": [
        ""
      ]
    },
    {
      "cell_type": "code",
      "metadata": {
        "id": "2e9PX5SN3aNq"
      },
      "source": [
        ""
      ],
      "execution_count": null,
      "outputs": []
    }
  ]
}